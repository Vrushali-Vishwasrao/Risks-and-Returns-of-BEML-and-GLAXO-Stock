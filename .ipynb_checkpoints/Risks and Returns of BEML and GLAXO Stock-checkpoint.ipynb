{
 "cells": [
  {
   "cell_type": "markdown",
   "id": "504f8c2e",
   "metadata": {},
   "source": [
    "### Problem Statment : Understanding the Risks and Returns of BEML and GLAXO Stock"
   ]
  },
  {
   "cell_type": "markdown",
   "id": "d79eba81",
   "metadata": {},
   "source": [
    "## 1. Importing Necessary Libraries"
   ]
  },
  {
   "cell_type": "code",
   "execution_count": 36,
   "id": "f6ec49ee",
   "metadata": {},
   "outputs": [],
   "source": [
    "import pandas as pd\n",
    "from matplotlib import pyplot as plt\n",
    "\n",
    "import warnings\n",
    "warnings.filterwarnings(action='ignore')"
   ]
  },
  {
   "cell_type": "markdown",
   "id": "22c273de",
   "metadata": {},
   "source": [
    "## 2. Data Collection"
   ]
  },
  {
   "cell_type": "markdown",
   "id": "d1d6e636",
   "metadata": {},
   "source": [
    "### Importing GLAXO Stock"
   ]
  },
  {
   "cell_type": "code",
   "execution_count": 10,
   "id": "00b792b5",
   "metadata": {
    "scrolled": true
   },
   "outputs": [
    {
     "data": {
      "text/html": [
       "<div>\n",
       "<style scoped>\n",
       "    .dataframe tbody tr th:only-of-type {\n",
       "        vertical-align: middle;\n",
       "    }\n",
       "\n",
       "    .dataframe tbody tr th {\n",
       "        vertical-align: top;\n",
       "    }\n",
       "\n",
       "    .dataframe thead th {\n",
       "        text-align: right;\n",
       "    }\n",
       "</style>\n",
       "<table border=\"1\" class=\"dataframe\">\n",
       "  <thead>\n",
       "    <tr style=\"text-align: right;\">\n",
       "      <th></th>\n",
       "      <th>Date</th>\n",
       "      <th>Open</th>\n",
       "      <th>High</th>\n",
       "      <th>Low</th>\n",
       "      <th>Last</th>\n",
       "      <th>Close</th>\n",
       "      <th>Total Trade Quantity</th>\n",
       "      <th>Turnover (Lacs)</th>\n",
       "    </tr>\n",
       "  </thead>\n",
       "  <tbody>\n",
       "    <tr>\n",
       "      <th>0</th>\n",
       "      <td>2010-01-04</td>\n",
       "      <td>1613.00</td>\n",
       "      <td>1629.10</td>\n",
       "      <td>1602.00</td>\n",
       "      <td>1629.0</td>\n",
       "      <td>1625.65</td>\n",
       "      <td>9365.0</td>\n",
       "      <td>151.74</td>\n",
       "    </tr>\n",
       "    <tr>\n",
       "      <th>1</th>\n",
       "      <td>2010-01-05</td>\n",
       "      <td>1639.95</td>\n",
       "      <td>1639.95</td>\n",
       "      <td>1611.05</td>\n",
       "      <td>1620.0</td>\n",
       "      <td>1616.80</td>\n",
       "      <td>38148.0</td>\n",
       "      <td>622.58</td>\n",
       "    </tr>\n",
       "    <tr>\n",
       "      <th>2</th>\n",
       "      <td>2010-01-06</td>\n",
       "      <td>1618.00</td>\n",
       "      <td>1644.00</td>\n",
       "      <td>1617.00</td>\n",
       "      <td>1639.0</td>\n",
       "      <td>1638.50</td>\n",
       "      <td>36519.0</td>\n",
       "      <td>595.09</td>\n",
       "    </tr>\n",
       "    <tr>\n",
       "      <th>3</th>\n",
       "      <td>2010-01-07</td>\n",
       "      <td>1645.00</td>\n",
       "      <td>1654.00</td>\n",
       "      <td>1636.00</td>\n",
       "      <td>1648.0</td>\n",
       "      <td>1648.70</td>\n",
       "      <td>12809.0</td>\n",
       "      <td>211.00</td>\n",
       "    </tr>\n",
       "    <tr>\n",
       "      <th>4</th>\n",
       "      <td>2010-01-08</td>\n",
       "      <td>1650.00</td>\n",
       "      <td>1650.00</td>\n",
       "      <td>1626.55</td>\n",
       "      <td>1640.0</td>\n",
       "      <td>1639.80</td>\n",
       "      <td>28035.0</td>\n",
       "      <td>459.11</td>\n",
       "    </tr>\n",
       "    <tr>\n",
       "      <th>...</th>\n",
       "      <td>...</td>\n",
       "      <td>...</td>\n",
       "      <td>...</td>\n",
       "      <td>...</td>\n",
       "      <td>...</td>\n",
       "      <td>...</td>\n",
       "      <td>...</td>\n",
       "      <td>...</td>\n",
       "    </tr>\n",
       "    <tr>\n",
       "      <th>1734</th>\n",
       "      <td>2016-12-26</td>\n",
       "      <td>2703.00</td>\n",
       "      <td>2740.00</td>\n",
       "      <td>2677.00</td>\n",
       "      <td>2715.0</td>\n",
       "      <td>2723.50</td>\n",
       "      <td>3953.0</td>\n",
       "      <td>107.15</td>\n",
       "    </tr>\n",
       "    <tr>\n",
       "      <th>1735</th>\n",
       "      <td>2016-12-27</td>\n",
       "      <td>2722.95</td>\n",
       "      <td>2725.00</td>\n",
       "      <td>2683.00</td>\n",
       "      <td>2692.0</td>\n",
       "      <td>2701.75</td>\n",
       "      <td>10600.0</td>\n",
       "      <td>286.10</td>\n",
       "    </tr>\n",
       "    <tr>\n",
       "      <th>1736</th>\n",
       "      <td>2016-12-28</td>\n",
       "      <td>2701.75</td>\n",
       "      <td>2718.00</td>\n",
       "      <td>2690.00</td>\n",
       "      <td>2698.0</td>\n",
       "      <td>2702.15</td>\n",
       "      <td>6050.0</td>\n",
       "      <td>163.44</td>\n",
       "    </tr>\n",
       "    <tr>\n",
       "      <th>1737</th>\n",
       "      <td>2016-12-29</td>\n",
       "      <td>2702.05</td>\n",
       "      <td>2739.00</td>\n",
       "      <td>2691.95</td>\n",
       "      <td>2710.0</td>\n",
       "      <td>2727.90</td>\n",
       "      <td>7649.0</td>\n",
       "      <td>207.87</td>\n",
       "    </tr>\n",
       "    <tr>\n",
       "      <th>1738</th>\n",
       "      <td>2016-12-30</td>\n",
       "      <td>2730.00</td>\n",
       "      <td>2740.45</td>\n",
       "      <td>2705.00</td>\n",
       "      <td>2730.0</td>\n",
       "      <td>2729.80</td>\n",
       "      <td>6513.0</td>\n",
       "      <td>177.65</td>\n",
       "    </tr>\n",
       "  </tbody>\n",
       "</table>\n",
       "<p>1739 rows × 8 columns</p>\n",
       "</div>"
      ],
      "text/plain": [
       "            Date     Open     High      Low    Last    Close  \\\n",
       "0     2010-01-04  1613.00  1629.10  1602.00  1629.0  1625.65   \n",
       "1     2010-01-05  1639.95  1639.95  1611.05  1620.0  1616.80   \n",
       "2     2010-01-06  1618.00  1644.00  1617.00  1639.0  1638.50   \n",
       "3     2010-01-07  1645.00  1654.00  1636.00  1648.0  1648.70   \n",
       "4     2010-01-08  1650.00  1650.00  1626.55  1640.0  1639.80   \n",
       "...          ...      ...      ...      ...     ...      ...   \n",
       "1734  2016-12-26  2703.00  2740.00  2677.00  2715.0  2723.50   \n",
       "1735  2016-12-27  2722.95  2725.00  2683.00  2692.0  2701.75   \n",
       "1736  2016-12-28  2701.75  2718.00  2690.00  2698.0  2702.15   \n",
       "1737  2016-12-29  2702.05  2739.00  2691.95  2710.0  2727.90   \n",
       "1738  2016-12-30  2730.00  2740.45  2705.00  2730.0  2729.80   \n",
       "\n",
       "      Total Trade Quantity  Turnover (Lacs)  \n",
       "0                   9365.0           151.74  \n",
       "1                  38148.0           622.58  \n",
       "2                  36519.0           595.09  \n",
       "3                  12809.0           211.00  \n",
       "4                  28035.0           459.11  \n",
       "...                    ...              ...  \n",
       "1734                3953.0           107.15  \n",
       "1735               10600.0           286.10  \n",
       "1736                6050.0           163.44  \n",
       "1737                7649.0           207.87  \n",
       "1738                6513.0           177.65  \n",
       "\n",
       "[1739 rows x 8 columns]"
      ]
     },
     "execution_count": 10,
     "metadata": {},
     "output_type": "execute_result"
    }
   ],
   "source": [
    "Glaxo = pd.read_csv('GLAXO.csv')\n",
    "Glaxo"
   ]
  },
  {
   "cell_type": "markdown",
   "id": "58723856",
   "metadata": {},
   "source": [
    "### Importing BEML Stock"
   ]
  },
  {
   "cell_type": "code",
   "execution_count": 13,
   "id": "e394c0e1",
   "metadata": {
    "scrolled": true
   },
   "outputs": [
    {
     "data": {
      "text/html": [
       "<div>\n",
       "<style scoped>\n",
       "    .dataframe tbody tr th:only-of-type {\n",
       "        vertical-align: middle;\n",
       "    }\n",
       "\n",
       "    .dataframe tbody tr th {\n",
       "        vertical-align: top;\n",
       "    }\n",
       "\n",
       "    .dataframe thead th {\n",
       "        text-align: right;\n",
       "    }\n",
       "</style>\n",
       "<table border=\"1\" class=\"dataframe\">\n",
       "  <thead>\n",
       "    <tr style=\"text-align: right;\">\n",
       "      <th></th>\n",
       "      <th>Date</th>\n",
       "      <th>Open</th>\n",
       "      <th>High</th>\n",
       "      <th>Low</th>\n",
       "      <th>Last</th>\n",
       "      <th>Close</th>\n",
       "      <th>Total Trade Quantity</th>\n",
       "      <th>Turnover (Lacs)</th>\n",
       "    </tr>\n",
       "  </thead>\n",
       "  <tbody>\n",
       "    <tr>\n",
       "      <th>0</th>\n",
       "      <td>2010-01-04</td>\n",
       "      <td>1121.00</td>\n",
       "      <td>1151.00</td>\n",
       "      <td>1121.00</td>\n",
       "      <td>1134.00</td>\n",
       "      <td>1135.60</td>\n",
       "      <td>101651.0</td>\n",
       "      <td>1157.18</td>\n",
       "    </tr>\n",
       "    <tr>\n",
       "      <th>1</th>\n",
       "      <td>2010-01-05</td>\n",
       "      <td>1146.80</td>\n",
       "      <td>1149.00</td>\n",
       "      <td>1128.75</td>\n",
       "      <td>1135.00</td>\n",
       "      <td>1134.60</td>\n",
       "      <td>59504.0</td>\n",
       "      <td>676.47</td>\n",
       "    </tr>\n",
       "    <tr>\n",
       "      <th>2</th>\n",
       "      <td>2010-01-06</td>\n",
       "      <td>1140.00</td>\n",
       "      <td>1164.25</td>\n",
       "      <td>1130.05</td>\n",
       "      <td>1137.00</td>\n",
       "      <td>1139.60</td>\n",
       "      <td>128908.0</td>\n",
       "      <td>1482.84</td>\n",
       "    </tr>\n",
       "    <tr>\n",
       "      <th>3</th>\n",
       "      <td>2010-01-07</td>\n",
       "      <td>1142.00</td>\n",
       "      <td>1159.40</td>\n",
       "      <td>1119.20</td>\n",
       "      <td>1141.00</td>\n",
       "      <td>1144.15</td>\n",
       "      <td>117871.0</td>\n",
       "      <td>1352.98</td>\n",
       "    </tr>\n",
       "    <tr>\n",
       "      <th>4</th>\n",
       "      <td>2010-01-08</td>\n",
       "      <td>1156.00</td>\n",
       "      <td>1172.00</td>\n",
       "      <td>1140.00</td>\n",
       "      <td>1141.20</td>\n",
       "      <td>1144.05</td>\n",
       "      <td>170063.0</td>\n",
       "      <td>1971.42</td>\n",
       "    </tr>\n",
       "    <tr>\n",
       "      <th>...</th>\n",
       "      <td>...</td>\n",
       "      <td>...</td>\n",
       "      <td>...</td>\n",
       "      <td>...</td>\n",
       "      <td>...</td>\n",
       "      <td>...</td>\n",
       "      <td>...</td>\n",
       "      <td>...</td>\n",
       "    </tr>\n",
       "    <tr>\n",
       "      <th>1734</th>\n",
       "      <td>2016-12-26</td>\n",
       "      <td>965.00</td>\n",
       "      <td>965.05</td>\n",
       "      <td>935.00</td>\n",
       "      <td>950.10</td>\n",
       "      <td>950.25</td>\n",
       "      <td>398696.0</td>\n",
       "      <td>3783.63</td>\n",
       "    </tr>\n",
       "    <tr>\n",
       "      <th>1735</th>\n",
       "      <td>2016-12-27</td>\n",
       "      <td>960.70</td>\n",
       "      <td>989.00</td>\n",
       "      <td>952.35</td>\n",
       "      <td>974.00</td>\n",
       "      <td>975.70</td>\n",
       "      <td>808561.0</td>\n",
       "      <td>7885.14</td>\n",
       "    </tr>\n",
       "    <tr>\n",
       "      <th>1736</th>\n",
       "      <td>2016-12-28</td>\n",
       "      <td>980.75</td>\n",
       "      <td>985.00</td>\n",
       "      <td>970.15</td>\n",
       "      <td>977.00</td>\n",
       "      <td>974.40</td>\n",
       "      <td>367041.0</td>\n",
       "      <td>3592.49</td>\n",
       "    </tr>\n",
       "    <tr>\n",
       "      <th>1737</th>\n",
       "      <td>2016-12-29</td>\n",
       "      <td>977.10</td>\n",
       "      <td>997.95</td>\n",
       "      <td>974.55</td>\n",
       "      <td>985.15</td>\n",
       "      <td>986.05</td>\n",
       "      <td>555233.0</td>\n",
       "      <td>5489.14</td>\n",
       "    </tr>\n",
       "    <tr>\n",
       "      <th>1738</th>\n",
       "      <td>2016-12-30</td>\n",
       "      <td>986.00</td>\n",
       "      <td>1006.95</td>\n",
       "      <td>985.90</td>\n",
       "      <td>1004.00</td>\n",
       "      <td>1000.60</td>\n",
       "      <td>460675.0</td>\n",
       "      <td>4606.48</td>\n",
       "    </tr>\n",
       "  </tbody>\n",
       "</table>\n",
       "<p>1739 rows × 8 columns</p>\n",
       "</div>"
      ],
      "text/plain": [
       "            Date     Open     High      Low     Last    Close  \\\n",
       "0     2010-01-04  1121.00  1151.00  1121.00  1134.00  1135.60   \n",
       "1     2010-01-05  1146.80  1149.00  1128.75  1135.00  1134.60   \n",
       "2     2010-01-06  1140.00  1164.25  1130.05  1137.00  1139.60   \n",
       "3     2010-01-07  1142.00  1159.40  1119.20  1141.00  1144.15   \n",
       "4     2010-01-08  1156.00  1172.00  1140.00  1141.20  1144.05   \n",
       "...          ...      ...      ...      ...      ...      ...   \n",
       "1734  2016-12-26   965.00   965.05   935.00   950.10   950.25   \n",
       "1735  2016-12-27   960.70   989.00   952.35   974.00   975.70   \n",
       "1736  2016-12-28   980.75   985.00   970.15   977.00   974.40   \n",
       "1737  2016-12-29   977.10   997.95   974.55   985.15   986.05   \n",
       "1738  2016-12-30   986.00  1006.95   985.90  1004.00  1000.60   \n",
       "\n",
       "      Total Trade Quantity  Turnover (Lacs)  \n",
       "0                 101651.0          1157.18  \n",
       "1                  59504.0           676.47  \n",
       "2                 128908.0          1482.84  \n",
       "3                 117871.0          1352.98  \n",
       "4                 170063.0          1971.42  \n",
       "...                    ...              ...  \n",
       "1734              398696.0          3783.63  \n",
       "1735              808561.0          7885.14  \n",
       "1736              367041.0          3592.49  \n",
       "1737              555233.0          5489.14  \n",
       "1738              460675.0          4606.48  \n",
       "\n",
       "[1739 rows x 8 columns]"
      ]
     },
     "execution_count": 13,
     "metadata": {},
     "output_type": "execute_result"
    }
   ],
   "source": [
    "BEML = pd.read_csv('BEML.csv')\n",
    "BEML"
   ]
  },
  {
   "cell_type": "markdown",
   "id": "9116699b",
   "metadata": {},
   "source": [
    "## 3. Data Understanding "
   ]
  },
  {
   "cell_type": "code",
   "execution_count": 7,
   "id": "f0c08c21",
   "metadata": {},
   "outputs": [
    {
     "data": {
      "text/plain": [
       "(1739, 8)"
      ]
     },
     "execution_count": 7,
     "metadata": {},
     "output_type": "execute_result"
    }
   ],
   "source": [
    "Glaxo.shape"
   ]
  },
  {
   "cell_type": "code",
   "execution_count": 25,
   "id": "d5387f9a",
   "metadata": {},
   "outputs": [
    {
     "data": {
      "text/plain": [
       "Date                    0\n",
       "Open                    0\n",
       "High                    0\n",
       "Low                     0\n",
       "Last                    0\n",
       "Close                   0\n",
       "Total Trade Quantity    0\n",
       "Turnover (Lacs)         0\n",
       "dtype: int64"
      ]
     },
     "execution_count": 25,
     "metadata": {},
     "output_type": "execute_result"
    }
   ],
   "source": [
    "Glaxo.isna().sum()"
   ]
  },
  {
   "cell_type": "code",
   "execution_count": 14,
   "id": "eb6e4a96",
   "metadata": {},
   "outputs": [
    {
     "data": {
      "text/plain": [
       "(1739, 8)"
      ]
     },
     "execution_count": 14,
     "metadata": {},
     "output_type": "execute_result"
    }
   ],
   "source": [
    "BEML.shape"
   ]
  },
  {
   "cell_type": "code",
   "execution_count": 15,
   "id": "d59f283f",
   "metadata": {},
   "outputs": [
    {
     "data": {
      "text/plain": [
       "Date                    0\n",
       "Open                    0\n",
       "High                    0\n",
       "Low                     0\n",
       "Last                    0\n",
       "Close                   0\n",
       "Total Trade Quantity    0\n",
       "Turnover (Lacs)         0\n",
       "dtype: int64"
      ]
     },
     "execution_count": 15,
     "metadata": {},
     "output_type": "execute_result"
    }
   ],
   "source": [
    "BEML.isna().sum()"
   ]
  },
  {
   "cell_type": "code",
   "execution_count": 16,
   "id": "21d5bb56",
   "metadata": {},
   "outputs": [
    {
     "data": {
      "text/plain": [
       "Date                     object\n",
       "Open                    float64\n",
       "High                    float64\n",
       "Low                     float64\n",
       "Last                    float64\n",
       "Close                   float64\n",
       "Total Trade Quantity    float64\n",
       "Turnover (Lacs)         float64\n",
       "dtype: object"
      ]
     },
     "execution_count": 16,
     "metadata": {},
     "output_type": "execute_result"
    }
   ],
   "source": [
    "BEML.dtypes"
   ]
  },
  {
   "cell_type": "code",
   "execution_count": 17,
   "id": "9c4df02a",
   "metadata": {},
   "outputs": [
    {
     "data": {
      "text/plain": [
       "Date                     object\n",
       "Open                    float64\n",
       "High                    float64\n",
       "Low                     float64\n",
       "Last                    float64\n",
       "Close                   float64\n",
       "Total Trade Quantity    float64\n",
       "Turnover (Lacs)         float64\n",
       "dtype: object"
      ]
     },
     "execution_count": 17,
     "metadata": {},
     "output_type": "execute_result"
    }
   ],
   "source": [
    "Glaxo.dtypes"
   ]
  },
  {
   "cell_type": "markdown",
   "id": "43e9c5ed",
   "metadata": {},
   "source": [
    "## 4. Data Preparation "
   ]
  },
  {
   "cell_type": "code",
   "execution_count": 18,
   "id": "d808c099",
   "metadata": {},
   "outputs": [],
   "source": [
    "# Coverting Date into Date_time data type\n",
    "\n",
    "Glaxo['Date'] = pd.to_datetime(Glaxo['Date'])\n",
    "BEML['Date']  = pd.to_datetime(Glaxo['Date'])"
   ]
  },
  {
   "cell_type": "code",
   "execution_count": 19,
   "id": "bcd7e3ae",
   "metadata": {},
   "outputs": [],
   "source": [
    "# Choosing parameters for analysis\n",
    "\n",
    "glaxo_data = Glaxo[['Date','Close']]\n",
    "beml_data  = BEML[['Date','Close']]"
   ]
  },
  {
   "cell_type": "code",
   "execution_count": 22,
   "id": "10dbafb1",
   "metadata": {},
   "outputs": [
    {
     "data": {
      "text/plain": [
       "Date     datetime64[ns]\n",
       "Close           float64\n",
       "dtype: object"
      ]
     },
     "execution_count": 22,
     "metadata": {},
     "output_type": "execute_result"
    }
   ],
   "source": [
    "glaxo_data.dtypes\n",
    "beml_data.dtypes"
   ]
  },
  {
   "cell_type": "code",
   "execution_count": 20,
   "id": "2e6f3afe",
   "metadata": {},
   "outputs": [
    {
     "data": {
      "text/html": [
       "<div>\n",
       "<style scoped>\n",
       "    .dataframe tbody tr th:only-of-type {\n",
       "        vertical-align: middle;\n",
       "    }\n",
       "\n",
       "    .dataframe tbody tr th {\n",
       "        vertical-align: top;\n",
       "    }\n",
       "\n",
       "    .dataframe thead th {\n",
       "        text-align: right;\n",
       "    }\n",
       "</style>\n",
       "<table border=\"1\" class=\"dataframe\">\n",
       "  <thead>\n",
       "    <tr style=\"text-align: right;\">\n",
       "      <th></th>\n",
       "      <th>Date</th>\n",
       "      <th>Close</th>\n",
       "    </tr>\n",
       "  </thead>\n",
       "  <tbody>\n",
       "    <tr>\n",
       "      <th>0</th>\n",
       "      <td>2010-01-04</td>\n",
       "      <td>1625.65</td>\n",
       "    </tr>\n",
       "    <tr>\n",
       "      <th>1</th>\n",
       "      <td>2010-01-05</td>\n",
       "      <td>1616.80</td>\n",
       "    </tr>\n",
       "    <tr>\n",
       "      <th>2</th>\n",
       "      <td>2010-01-06</td>\n",
       "      <td>1638.50</td>\n",
       "    </tr>\n",
       "    <tr>\n",
       "      <th>3</th>\n",
       "      <td>2010-01-07</td>\n",
       "      <td>1648.70</td>\n",
       "    </tr>\n",
       "    <tr>\n",
       "      <th>4</th>\n",
       "      <td>2010-01-08</td>\n",
       "      <td>1639.80</td>\n",
       "    </tr>\n",
       "  </tbody>\n",
       "</table>\n",
       "</div>"
      ],
      "text/plain": [
       "        Date    Close\n",
       "0 2010-01-04  1625.65\n",
       "1 2010-01-05  1616.80\n",
       "2 2010-01-06  1638.50\n",
       "3 2010-01-07  1648.70\n",
       "4 2010-01-08  1639.80"
      ]
     },
     "execution_count": 20,
     "metadata": {},
     "output_type": "execute_result"
    }
   ],
   "source": [
    "glaxo_data.head()"
   ]
  },
  {
   "cell_type": "code",
   "execution_count": 23,
   "id": "9ded0d80",
   "metadata": {},
   "outputs": [
    {
     "data": {
      "text/html": [
       "<div>\n",
       "<style scoped>\n",
       "    .dataframe tbody tr th:only-of-type {\n",
       "        vertical-align: middle;\n",
       "    }\n",
       "\n",
       "    .dataframe tbody tr th {\n",
       "        vertical-align: top;\n",
       "    }\n",
       "\n",
       "    .dataframe thead th {\n",
       "        text-align: right;\n",
       "    }\n",
       "</style>\n",
       "<table border=\"1\" class=\"dataframe\">\n",
       "  <thead>\n",
       "    <tr style=\"text-align: right;\">\n",
       "      <th></th>\n",
       "      <th>Date</th>\n",
       "      <th>Close</th>\n",
       "    </tr>\n",
       "  </thead>\n",
       "  <tbody>\n",
       "    <tr>\n",
       "      <th>0</th>\n",
       "      <td>2010-01-04</td>\n",
       "      <td>1135.60</td>\n",
       "    </tr>\n",
       "    <tr>\n",
       "      <th>1</th>\n",
       "      <td>2010-01-05</td>\n",
       "      <td>1134.60</td>\n",
       "    </tr>\n",
       "    <tr>\n",
       "      <th>2</th>\n",
       "      <td>2010-01-06</td>\n",
       "      <td>1139.60</td>\n",
       "    </tr>\n",
       "    <tr>\n",
       "      <th>3</th>\n",
       "      <td>2010-01-07</td>\n",
       "      <td>1144.15</td>\n",
       "    </tr>\n",
       "    <tr>\n",
       "      <th>4</th>\n",
       "      <td>2010-01-08</td>\n",
       "      <td>1144.05</td>\n",
       "    </tr>\n",
       "  </tbody>\n",
       "</table>\n",
       "</div>"
      ],
      "text/plain": [
       "        Date    Close\n",
       "0 2010-01-04  1135.60\n",
       "1 2010-01-05  1134.60\n",
       "2 2010-01-06  1139.60\n",
       "3 2010-01-07  1144.15\n",
       "4 2010-01-08  1144.05"
      ]
     },
     "execution_count": 23,
     "metadata": {},
     "output_type": "execute_result"
    }
   ],
   "source": [
    "beml_data.head()"
   ]
  },
  {
   "cell_type": "markdown",
   "id": "62f51954",
   "metadata": {},
   "source": [
    "## 5. Data Visualization"
   ]
  },
  {
   "cell_type": "markdown",
   "id": "d4be8991",
   "metadata": {},
   "source": [
    "### BMEL Daily Close Price "
   ]
  },
  {
   "cell_type": "code",
   "execution_count": 33,
   "id": "de51aa5b",
   "metadata": {},
   "outputs": [
    {
     "data": {
      "image/png": "[encoded data removed]",
      "text/plain": [
       "<Figure size 936x432 with 1 Axes>"
      ]
     },
     "metadata": {
      "needs_background": "light"
     },
     "output_type": "display_data"
    }
   ],
   "source": [
    "plt.figure(figsize=(13,6))\n",
    "plt.plot(beml_data['Date'],beml_data['Close'])\n",
    "plt.xlabel('Time Period')\n",
    "plt.ylabel('Close Price')\n",
    "plt.title('BEML Daily Close Price')\n",
    "plt.show()"
   ]
  },
  {
   "cell_type": "code",
   "execution_count": null,
   "id": "62698f09",
   "metadata": {},
   "outputs": [],
   "source": []
  },
  {
   "cell_type": "markdown",
   "id": "b8d200ec",
   "metadata": {},
   "source": [
    "### Glaxo Daily Close Price "
   ]
  },
  {
   "cell_type": "code",
   "execution_count": 34,
   "id": "663f2fec",
   "metadata": {},
   "outputs": [
    {
     "data": {
      "image/png": "[encoded data removed]",
      "text/plain": [
       "<Figure size 936x432 with 1 Axes>"
      ]
     },
     "metadata": {
      "needs_background": "light"
     },
     "output_type": "display_data"
    }
   ],
   "source": [
    "plt.figure(figsize=(13,6))\n",
    "plt.plot(glaxo_data['Date'],glaxo_data['Close'])\n",
    "plt.xlabel('Time Period')\n",
    "plt.ylabel('Close Price')\n",
    "plt.title('Glaxo Daily Close Price')\n",
    "plt.show()"
   ]
  },
  {
   "cell_type": "markdown",
   "id": "28fcb1ec",
   "metadata": {},
   "source": [
    "### Let's calculate %wise profit or gain"
   ]
  },
  {
   "cell_type": "code",
   "execution_count": 37,
   "id": "634d1332",
   "metadata": {
    "scrolled": true
   },
   "outputs": [],
   "source": [
    "glaxo_data['Gain'] = glaxo_data['Close'].pct_change(periods=1)"
   ]
  },
  {
   "cell_type": "code",
   "execution_count": 38,
   "id": "207c738b",
   "metadata": {},
   "outputs": [
    {
     "data": {
      "text/html": [
       "<div>\n",
       "<style scoped>\n",
       "    .dataframe tbody tr th:only-of-type {\n",
       "        vertical-align: middle;\n",
       "    }\n",
       "\n",
       "    .dataframe tbody tr th {\n",
       "        vertical-align: top;\n",
       "    }\n",
       "\n",
       "    .dataframe thead th {\n",
       "        text-align: right;\n",
       "    }\n",
       "</style>\n",
       "<table border=\"1\" class=\"dataframe\">\n",
       "  <thead>\n",
       "    <tr style=\"text-align: right;\">\n",
       "      <th></th>\n",
       "      <th>Date</th>\n",
       "      <th>Close</th>\n",
       "      <th>Gain</th>\n",
       "    </tr>\n",
       "  </thead>\n",
       "  <tbody>\n",
       "    <tr>\n",
       "      <th>0</th>\n",
       "      <td>2010-01-04</td>\n",
       "      <td>1625.65</td>\n",
       "      <td>NaN</td>\n",
       "    </tr>\n",
       "    <tr>\n",
       "      <th>1</th>\n",
       "      <td>2010-01-05</td>\n",
       "      <td>1616.80</td>\n",
       "      <td>-0.005444</td>\n",
       "    </tr>\n",
       "    <tr>\n",
       "      <th>2</th>\n",
       "      <td>2010-01-06</td>\n",
       "      <td>1638.50</td>\n",
       "      <td>0.013422</td>\n",
       "    </tr>\n",
       "    <tr>\n",
       "      <th>3</th>\n",
       "      <td>2010-01-07</td>\n",
       "      <td>1648.70</td>\n",
       "      <td>0.006225</td>\n",
       "    </tr>\n",
       "    <tr>\n",
       "      <th>4</th>\n",
       "      <td>2010-01-08</td>\n",
       "      <td>1639.80</td>\n",
       "      <td>-0.005398</td>\n",
       "    </tr>\n",
       "    <tr>\n",
       "      <th>...</th>\n",
       "      <td>...</td>\n",
       "      <td>...</td>\n",
       "      <td>...</td>\n",
       "    </tr>\n",
       "    <tr>\n",
       "      <th>1734</th>\n",
       "      <td>2016-12-26</td>\n",
       "      <td>2723.50</td>\n",
       "      <td>-0.001283</td>\n",
       "    </tr>\n",
       "    <tr>\n",
       "      <th>1735</th>\n",
       "      <td>2016-12-27</td>\n",
       "      <td>2701.75</td>\n",
       "      <td>-0.007986</td>\n",
       "    </tr>\n",
       "    <tr>\n",
       "      <th>1736</th>\n",
       "      <td>2016-12-28</td>\n",
       "      <td>2702.15</td>\n",
       "      <td>0.000148</td>\n",
       "    </tr>\n",
       "    <tr>\n",
       "      <th>1737</th>\n",
       "      <td>2016-12-29</td>\n",
       "      <td>2727.90</td>\n",
       "      <td>0.009529</td>\n",
       "    </tr>\n",
       "    <tr>\n",
       "      <th>1738</th>\n",
       "      <td>2016-12-30</td>\n",
       "      <td>2729.80</td>\n",
       "      <td>0.000697</td>\n",
       "    </tr>\n",
       "  </tbody>\n",
       "</table>\n",
       "<p>1739 rows × 3 columns</p>\n",
       "</div>"
      ],
      "text/plain": [
       "           Date    Close      Gain\n",
       "0    2010-01-04  1625.65       NaN\n",
       "1    2010-01-05  1616.80 -0.005444\n",
       "2    2010-01-06  1638.50  0.013422\n",
       "3    2010-01-07  1648.70  0.006225\n",
       "4    2010-01-08  1639.80 -0.005398\n",
       "...         ...      ...       ...\n",
       "1734 2016-12-26  2723.50 -0.001283\n",
       "1735 2016-12-27  2701.75 -0.007986\n",
       "1736 2016-12-28  2702.15  0.000148\n",
       "1737 2016-12-29  2727.90  0.009529\n",
       "1738 2016-12-30  2729.80  0.000697\n",
       "\n",
       "[1739 rows x 3 columns]"
      ]
     },
     "execution_count": 38,
     "metadata": {},
     "output_type": "execute_result"
    }
   ],
   "source": [
    "glaxo_data"
   ]
  },
  {
   "cell_type": "code",
   "execution_count": null,
   "id": "685c8438",
   "metadata": {},
   "outputs": [],
   "source": []
  },
  {
   "cell_type": "code",
   "execution_count": 39,
   "id": "1f1ac112",
   "metadata": {},
   "outputs": [],
   "source": [
    "beml_data['Gain'] = beml_data['Close'].pct_change(periods =1)"
   ]
  },
  {
   "cell_type": "code",
   "execution_count": 40,
   "id": "f3e4c00b",
   "metadata": {},
   "outputs": [
    {
     "data": {
      "text/html": [
       "<div>\n",
       "<style scoped>\n",
       "    .dataframe tbody tr th:only-of-type {\n",
       "        vertical-align: middle;\n",
       "    }\n",
       "\n",
       "    .dataframe tbody tr th {\n",
       "        vertical-align: top;\n",
       "    }\n",
       "\n",
       "    .dataframe thead th {\n",
       "        text-align: right;\n",
       "    }\n",
       "</style>\n",
       "<table border=\"1\" class=\"dataframe\">\n",
       "  <thead>\n",
       "    <tr style=\"text-align: right;\">\n",
       "      <th></th>\n",
       "      <th>Date</th>\n",
       "      <th>Close</th>\n",
       "      <th>Gain</th>\n",
       "    </tr>\n",
       "  </thead>\n",
       "  <tbody>\n",
       "    <tr>\n",
       "      <th>0</th>\n",
       "      <td>2010-01-04</td>\n",
       "      <td>1135.60</td>\n",
       "      <td>NaN</td>\n",
       "    </tr>\n",
       "    <tr>\n",
       "      <th>1</th>\n",
       "      <td>2010-01-05</td>\n",
       "      <td>1134.60</td>\n",
       "      <td>-0.000881</td>\n",
       "    </tr>\n",
       "    <tr>\n",
       "      <th>2</th>\n",
       "      <td>2010-01-06</td>\n",
       "      <td>1139.60</td>\n",
       "      <td>0.004407</td>\n",
       "    </tr>\n",
       "    <tr>\n",
       "      <th>3</th>\n",
       "      <td>2010-01-07</td>\n",
       "      <td>1144.15</td>\n",
       "      <td>0.003993</td>\n",
       "    </tr>\n",
       "    <tr>\n",
       "      <th>4</th>\n",
       "      <td>2010-01-08</td>\n",
       "      <td>1144.05</td>\n",
       "      <td>-0.000087</td>\n",
       "    </tr>\n",
       "    <tr>\n",
       "      <th>...</th>\n",
       "      <td>...</td>\n",
       "      <td>...</td>\n",
       "      <td>...</td>\n",
       "    </tr>\n",
       "    <tr>\n",
       "      <th>1734</th>\n",
       "      <td>2016-12-26</td>\n",
       "      <td>950.25</td>\n",
       "      <td>-0.021924</td>\n",
       "    </tr>\n",
       "    <tr>\n",
       "      <th>1735</th>\n",
       "      <td>2016-12-27</td>\n",
       "      <td>975.70</td>\n",
       "      <td>0.026782</td>\n",
       "    </tr>\n",
       "    <tr>\n",
       "      <th>1736</th>\n",
       "      <td>2016-12-28</td>\n",
       "      <td>974.40</td>\n",
       "      <td>-0.001332</td>\n",
       "    </tr>\n",
       "    <tr>\n",
       "      <th>1737</th>\n",
       "      <td>2016-12-29</td>\n",
       "      <td>986.05</td>\n",
       "      <td>0.011956</td>\n",
       "    </tr>\n",
       "    <tr>\n",
       "      <th>1738</th>\n",
       "      <td>2016-12-30</td>\n",
       "      <td>1000.60</td>\n",
       "      <td>0.014756</td>\n",
       "    </tr>\n",
       "  </tbody>\n",
       "</table>\n",
       "<p>1739 rows × 3 columns</p>\n",
       "</div>"
      ],
      "text/plain": [
       "           Date    Close      Gain\n",
       "0    2010-01-04  1135.60       NaN\n",
       "1    2010-01-05  1134.60 -0.000881\n",
       "2    2010-01-06  1139.60  0.004407\n",
       "3    2010-01-07  1144.15  0.003993\n",
       "4    2010-01-08  1144.05 -0.000087\n",
       "...         ...      ...       ...\n",
       "1734 2016-12-26   950.25 -0.021924\n",
       "1735 2016-12-27   975.70  0.026782\n",
       "1736 2016-12-28   974.40 -0.001332\n",
       "1737 2016-12-29   986.05  0.011956\n",
       "1738 2016-12-30  1000.60  0.014756\n",
       "\n",
       "[1739 rows x 3 columns]"
      ]
     },
     "execution_count": 40,
     "metadata": {},
     "output_type": "execute_result"
    }
   ],
   "source": [
    "beml_data"
   ]
  },
  {
   "cell_type": "markdown",
   "id": "903b24ea",
   "metadata": {},
   "source": [
    "### Removing NaN Values"
   ]
  },
  {
   "cell_type": "code",
   "execution_count": 41,
   "id": "bd93e16e",
   "metadata": {},
   "outputs": [],
   "source": [
    "beml_data.dropna(axis=0,inplace=True)\n",
    "glaxo_data.dropna(axis=0,inplace=True)"
   ]
  },
  {
   "cell_type": "code",
   "execution_count": 43,
   "id": "38745fc3",
   "metadata": {},
   "outputs": [
    {
     "data": {
      "text/html": [
       "<div>\n",
       "<style scoped>\n",
       "    .dataframe tbody tr th:only-of-type {\n",
       "        vertical-align: middle;\n",
       "    }\n",
       "\n",
       "    .dataframe tbody tr th {\n",
       "        vertical-align: top;\n",
       "    }\n",
       "\n",
       "    .dataframe thead th {\n",
       "        text-align: right;\n",
       "    }\n",
       "</style>\n",
       "<table border=\"1\" class=\"dataframe\">\n",
       "  <thead>\n",
       "    <tr style=\"text-align: right;\">\n",
       "      <th></th>\n",
       "      <th>Date</th>\n",
       "      <th>Close</th>\n",
       "      <th>Gain</th>\n",
       "    </tr>\n",
       "  </thead>\n",
       "  <tbody>\n",
       "    <tr>\n",
       "      <th>1</th>\n",
       "      <td>2010-01-05</td>\n",
       "      <td>1134.60</td>\n",
       "      <td>-0.000881</td>\n",
       "    </tr>\n",
       "    <tr>\n",
       "      <th>2</th>\n",
       "      <td>2010-01-06</td>\n",
       "      <td>1139.60</td>\n",
       "      <td>0.004407</td>\n",
       "    </tr>\n",
       "    <tr>\n",
       "      <th>3</th>\n",
       "      <td>2010-01-07</td>\n",
       "      <td>1144.15</td>\n",
       "      <td>0.003993</td>\n",
       "    </tr>\n",
       "    <tr>\n",
       "      <th>4</th>\n",
       "      <td>2010-01-08</td>\n",
       "      <td>1144.05</td>\n",
       "      <td>-0.000087</td>\n",
       "    </tr>\n",
       "    <tr>\n",
       "      <th>5</th>\n",
       "      <td>2010-01-11</td>\n",
       "      <td>1137.00</td>\n",
       "      <td>-0.006162</td>\n",
       "    </tr>\n",
       "    <tr>\n",
       "      <th>...</th>\n",
       "      <td>...</td>\n",
       "      <td>...</td>\n",
       "      <td>...</td>\n",
       "    </tr>\n",
       "    <tr>\n",
       "      <th>1734</th>\n",
       "      <td>2016-12-26</td>\n",
       "      <td>950.25</td>\n",
       "      <td>-0.021924</td>\n",
       "    </tr>\n",
       "    <tr>\n",
       "      <th>1735</th>\n",
       "      <td>2016-12-27</td>\n",
       "      <td>975.70</td>\n",
       "      <td>0.026782</td>\n",
       "    </tr>\n",
       "    <tr>\n",
       "      <th>1736</th>\n",
       "      <td>2016-12-28</td>\n",
       "      <td>974.40</td>\n",
       "      <td>-0.001332</td>\n",
       "    </tr>\n",
       "    <tr>\n",
       "      <th>1737</th>\n",
       "      <td>2016-12-29</td>\n",
       "      <td>986.05</td>\n",
       "      <td>0.011956</td>\n",
       "    </tr>\n",
       "    <tr>\n",
       "      <th>1738</th>\n",
       "      <td>2016-12-30</td>\n",
       "      <td>1000.60</td>\n",
       "      <td>0.014756</td>\n",
       "    </tr>\n",
       "  </tbody>\n",
       "</table>\n",
       "<p>1738 rows × 3 columns</p>\n",
       "</div>"
      ],
      "text/plain": [
       "           Date    Close      Gain\n",
       "1    2010-01-05  1134.60 -0.000881\n",
       "2    2010-01-06  1139.60  0.004407\n",
       "3    2010-01-07  1144.15  0.003993\n",
       "4    2010-01-08  1144.05 -0.000087\n",
       "5    2010-01-11  1137.00 -0.006162\n",
       "...         ...      ...       ...\n",
       "1734 2016-12-26   950.25 -0.021924\n",
       "1735 2016-12-27   975.70  0.026782\n",
       "1736 2016-12-28   974.40 -0.001332\n",
       "1737 2016-12-29   986.05  0.011956\n",
       "1738 2016-12-30  1000.60  0.014756\n",
       "\n",
       "[1738 rows x 3 columns]"
      ]
     },
     "execution_count": 43,
     "metadata": {},
     "output_type": "execute_result"
    }
   ],
   "source": [
    "beml_data"
   ]
  },
  {
   "cell_type": "code",
   "execution_count": 44,
   "id": "738a23a3",
   "metadata": {},
   "outputs": [
    {
     "data": {
      "text/html": [
       "<div>\n",
       "<style scoped>\n",
       "    .dataframe tbody tr th:only-of-type {\n",
       "        vertical-align: middle;\n",
       "    }\n",
       "\n",
       "    .dataframe tbody tr th {\n",
       "        vertical-align: top;\n",
       "    }\n",
       "\n",
       "    .dataframe thead th {\n",
       "        text-align: right;\n",
       "    }\n",
       "</style>\n",
       "<table border=\"1\" class=\"dataframe\">\n",
       "  <thead>\n",
       "    <tr style=\"text-align: right;\">\n",
       "      <th></th>\n",
       "      <th>Date</th>\n",
       "      <th>Close</th>\n",
       "      <th>Gain</th>\n",
       "    </tr>\n",
       "  </thead>\n",
       "  <tbody>\n",
       "    <tr>\n",
       "      <th>1</th>\n",
       "      <td>2010-01-05</td>\n",
       "      <td>1616.80</td>\n",
       "      <td>-0.005444</td>\n",
       "    </tr>\n",
       "    <tr>\n",
       "      <th>2</th>\n",
       "      <td>2010-01-06</td>\n",
       "      <td>1638.50</td>\n",
       "      <td>0.013422</td>\n",
       "    </tr>\n",
       "    <tr>\n",
       "      <th>3</th>\n",
       "      <td>2010-01-07</td>\n",
       "      <td>1648.70</td>\n",
       "      <td>0.006225</td>\n",
       "    </tr>\n",
       "    <tr>\n",
       "      <th>4</th>\n",
       "      <td>2010-01-08</td>\n",
       "      <td>1639.80</td>\n",
       "      <td>-0.005398</td>\n",
       "    </tr>\n",
       "    <tr>\n",
       "      <th>5</th>\n",
       "      <td>2010-01-11</td>\n",
       "      <td>1629.45</td>\n",
       "      <td>-0.006312</td>\n",
       "    </tr>\n",
       "    <tr>\n",
       "      <th>...</th>\n",
       "      <td>...</td>\n",
       "      <td>...</td>\n",
       "      <td>...</td>\n",
       "    </tr>\n",
       "    <tr>\n",
       "      <th>1734</th>\n",
       "      <td>2016-12-26</td>\n",
       "      <td>2723.50</td>\n",
       "      <td>-0.001283</td>\n",
       "    </tr>\n",
       "    <tr>\n",
       "      <th>1735</th>\n",
       "      <td>2016-12-27</td>\n",
       "      <td>2701.75</td>\n",
       "      <td>-0.007986</td>\n",
       "    </tr>\n",
       "    <tr>\n",
       "      <th>1736</th>\n",
       "      <td>2016-12-28</td>\n",
       "      <td>2702.15</td>\n",
       "      <td>0.000148</td>\n",
       "    </tr>\n",
       "    <tr>\n",
       "      <th>1737</th>\n",
       "      <td>2016-12-29</td>\n",
       "      <td>2727.90</td>\n",
       "      <td>0.009529</td>\n",
       "    </tr>\n",
       "    <tr>\n",
       "      <th>1738</th>\n",
       "      <td>2016-12-30</td>\n",
       "      <td>2729.80</td>\n",
       "      <td>0.000697</td>\n",
       "    </tr>\n",
       "  </tbody>\n",
       "</table>\n",
       "<p>1738 rows × 3 columns</p>\n",
       "</div>"
      ],
      "text/plain": [
       "           Date    Close      Gain\n",
       "1    2010-01-05  1616.80 -0.005444\n",
       "2    2010-01-06  1638.50  0.013422\n",
       "3    2010-01-07  1648.70  0.006225\n",
       "4    2010-01-08  1639.80 -0.005398\n",
       "5    2010-01-11  1629.45 -0.006312\n",
       "...         ...      ...       ...\n",
       "1734 2016-12-26  2723.50 -0.001283\n",
       "1735 2016-12-27  2701.75 -0.007986\n",
       "1736 2016-12-28  2702.15  0.000148\n",
       "1737 2016-12-29  2727.90  0.009529\n",
       "1738 2016-12-30  2729.80  0.000697\n",
       "\n",
       "[1738 rows x 3 columns]"
      ]
     },
     "execution_count": 44,
     "metadata": {},
     "output_type": "execute_result"
    }
   ],
   "source": [
    "glaxo_data"
   ]
  },
  {
   "cell_type": "markdown",
   "id": "db5379e0",
   "metadata": {},
   "source": [
    "### Let's understand the Gain Fluctuations"
   ]
  },
  {
   "cell_type": "markdown",
   "id": "3a4d2549",
   "metadata": {},
   "source": [
    "### Glaxo Gain"
   ]
  },
  {
   "cell_type": "code",
   "execution_count": 45,
   "id": "add8b3a3",
   "metadata": {},
   "outputs": [
    {
     "data": {
      "image/png": "[encoded data removed]",
      "text/plain": [
       "<Figure size 936x432 with 1 Axes>"
      ]
     },
     "metadata": {
      "needs_background": "light"
     },
     "output_type": "display_data"
    }
   ],
   "source": [
    "plt.figure(figsize=(13,6))\n",
    "plt.plot(glaxo_data['Date'],glaxo_data['Gain'])\n",
    "plt.xlabel('Time Period')\n",
    "plt.ylabel('Gain')\n",
    "plt.title('Glaxo Daily Gain')\n",
    "plt.show()"
   ]
  },
  {
   "cell_type": "markdown",
   "id": "a4d55e27",
   "metadata": {},
   "source": [
    "### BEML Gain"
   ]
  },
  {
   "cell_type": "code",
   "execution_count": 47,
   "id": "66bacb54",
   "metadata": {},
   "outputs": [
    {
     "data": {
      "image/png": "[encoded data removed]",
      "text/plain": [
       "<Figure size 936x432 with 1 Axes>"
      ]
     },
     "metadata": {
      "needs_background": "light"
     },
     "output_type": "display_data"
    }
   ],
   "source": [
    "plt.figure(figsize=(13,6))\n",
    "plt.plot(beml_data['Date'],beml_data['Gain'])\n",
    "plt.xlabel('Time Period')\n",
    "plt.ylabel('Gain')\n",
    "plt.title('BEML Daily Gain')\n",
    "plt.show()"
   ]
  },
  {
   "cell_type": "markdown",
   "id": "3da1bbea",
   "metadata": {},
   "source": [
    "## Conclusions:"
   ]
  },
  {
   "cell_type": "markdown",
   "id": "134f3c12",
   "metadata": {},
   "source": [
    "### 1.What is probability of making 2% loss in BEML:"
   ]
  },
  {
   "cell_type": "code",
   "execution_count": 48,
   "id": "8b78dee7",
   "metadata": {},
   "outputs": [
    {
     "data": {
      "text/html": [
       "<div>\n",
       "<style scoped>\n",
       "    .dataframe tbody tr th:only-of-type {\n",
       "        vertical-align: middle;\n",
       "    }\n",
       "\n",
       "    .dataframe tbody tr th {\n",
       "        vertical-align: top;\n",
       "    }\n",
       "\n",
       "    .dataframe thead th {\n",
       "        text-align: right;\n",
       "    }\n",
       "</style>\n",
       "<table border=\"1\" class=\"dataframe\">\n",
       "  <thead>\n",
       "    <tr style=\"text-align: right;\">\n",
       "      <th></th>\n",
       "      <th>Close</th>\n",
       "      <th>Gain</th>\n",
       "    </tr>\n",
       "  </thead>\n",
       "  <tbody>\n",
       "    <tr>\n",
       "      <th>count</th>\n",
       "      <td>1738.000000</td>\n",
       "      <td>1738.000000</td>\n",
       "    </tr>\n",
       "    <tr>\n",
       "      <th>mean</th>\n",
       "      <td>698.183688</td>\n",
       "      <td>0.000271</td>\n",
       "    </tr>\n",
       "    <tr>\n",
       "      <th>std</th>\n",
       "      <td>357.378754</td>\n",
       "      <td>0.026431</td>\n",
       "    </tr>\n",
       "    <tr>\n",
       "      <th>min</th>\n",
       "      <td>129.150000</td>\n",
       "      <td>-0.133940</td>\n",
       "    </tr>\n",
       "    <tr>\n",
       "      <th>25%</th>\n",
       "      <td>370.650000</td>\n",
       "      <td>-0.013736</td>\n",
       "    </tr>\n",
       "    <tr>\n",
       "      <th>50%</th>\n",
       "      <td>682.100000</td>\n",
       "      <td>-0.001541</td>\n",
       "    </tr>\n",
       "    <tr>\n",
       "      <th>75%</th>\n",
       "      <td>1010.350000</td>\n",
       "      <td>0.011985</td>\n",
       "    </tr>\n",
       "    <tr>\n",
       "      <th>max</th>\n",
       "      <td>1558.500000</td>\n",
       "      <td>0.198329</td>\n",
       "    </tr>\n",
       "  </tbody>\n",
       "</table>\n",
       "</div>"
      ],
      "text/plain": [
       "             Close         Gain\n",
       "count  1738.000000  1738.000000\n",
       "mean    698.183688     0.000271\n",
       "std     357.378754     0.026431\n",
       "min     129.150000    -0.133940\n",
       "25%     370.650000    -0.013736\n",
       "50%     682.100000    -0.001541\n",
       "75%    1010.350000     0.011985\n",
       "max    1558.500000     0.198329"
      ]
     },
     "execution_count": 48,
     "metadata": {},
     "output_type": "execute_result"
    }
   ],
   "source": [
    "beml_data.describe()"
   ]
  },
  {
   "cell_type": "code",
   "execution_count": 49,
   "id": "64046a7c",
   "metadata": {},
   "outputs": [],
   "source": [
    "from scipy import stats"
   ]
  },
  {
   "cell_type": "code",
   "execution_count": 51,
   "id": "d63bc006",
   "metadata": {},
   "outputs": [
    {
     "data": {
      "text/plain": [
       "0.22155849527795074"
      ]
     },
     "execution_count": 51,
     "metadata": {},
     "output_type": "execute_result"
    }
   ],
   "source": [
    "stats.norm.cdf(x = -0.02, loc = 0.000271, scale = 0.026431)\n",
    "# There is 22% chance that if an investor invests on BEML, he will be loosing 2% or more than 2% from his investment."
   ]
  },
  {
   "cell_type": "markdown",
   "id": "b55e097f",
   "metadata": {},
   "source": [
    "### 2.What is probability of making 2% profit in BEML:"
   ]
  },
  {
   "cell_type": "code",
   "execution_count": 57,
   "id": "d77ae234",
   "metadata": {},
   "outputs": [
    {
     "data": {
      "text/plain": [
       "0.22770260982009338"
      ]
     },
     "execution_count": 57,
     "metadata": {},
     "output_type": "execute_result"
    }
   ],
   "source": [
    "1 - stats.norm.cdf(x = 0.02, loc = 0.000271, scale = 0.026431)\n",
    "# There is 23% chance that if an investor invests on BEML, he will be getting 2% or more than 2% from his investment."
   ]
  },
  {
   "cell_type": "markdown",
   "id": "1ed3e2eb",
   "metadata": {},
   "source": [
    "### 3.What is probability of making 2% loss in Glaxo:"
   ]
  },
  {
   "cell_type": "code",
   "execution_count": 52,
   "id": "34d5c453",
   "metadata": {},
   "outputs": [
    {
     "data": {
      "text/html": [
       "<div>\n",
       "<style scoped>\n",
       "    .dataframe tbody tr th:only-of-type {\n",
       "        vertical-align: middle;\n",
       "    }\n",
       "\n",
       "    .dataframe tbody tr th {\n",
       "        vertical-align: top;\n",
       "    }\n",
       "\n",
       "    .dataframe thead th {\n",
       "        text-align: right;\n",
       "    }\n",
       "</style>\n",
       "<table border=\"1\" class=\"dataframe\">\n",
       "  <thead>\n",
       "    <tr style=\"text-align: right;\">\n",
       "      <th></th>\n",
       "      <th>Close</th>\n",
       "      <th>Gain</th>\n",
       "    </tr>\n",
       "  </thead>\n",
       "  <tbody>\n",
       "    <tr>\n",
       "      <th>count</th>\n",
       "      <td>1738.000000</td>\n",
       "      <td>1738.000000</td>\n",
       "    </tr>\n",
       "    <tr>\n",
       "      <th>mean</th>\n",
       "      <td>2533.153596</td>\n",
       "      <td>0.000386</td>\n",
       "    </tr>\n",
       "    <tr>\n",
       "      <th>std</th>\n",
       "      <td>540.441532</td>\n",
       "      <td>0.013361</td>\n",
       "    </tr>\n",
       "    <tr>\n",
       "      <th>min</th>\n",
       "      <td>1514.300000</td>\n",
       "      <td>-0.074719</td>\n",
       "    </tr>\n",
       "    <tr>\n",
       "      <th>25%</th>\n",
       "      <td>2096.987500</td>\n",
       "      <td>-0.005850</td>\n",
       "    </tr>\n",
       "    <tr>\n",
       "      <th>50%</th>\n",
       "      <td>2365.700000</td>\n",
       "      <td>-0.000021</td>\n",
       "    </tr>\n",
       "    <tr>\n",
       "      <th>75%</th>\n",
       "      <td>3010.562500</td>\n",
       "      <td>0.005826</td>\n",
       "    </tr>\n",
       "    <tr>\n",
       "      <th>max</th>\n",
       "      <td>3814.750000</td>\n",
       "      <td>0.189196</td>\n",
       "    </tr>\n",
       "  </tbody>\n",
       "</table>\n",
       "</div>"
      ],
      "text/plain": [
       "             Close         Gain\n",
       "count  1738.000000  1738.000000\n",
       "mean   2533.153596     0.000386\n",
       "std     540.441532     0.013361\n",
       "min    1514.300000    -0.074719\n",
       "25%    2096.987500    -0.005850\n",
       "50%    2365.700000    -0.000021\n",
       "75%    3010.562500     0.005826\n",
       "max    3814.750000     0.189196"
      ]
     },
     "execution_count": 52,
     "metadata": {},
     "output_type": "execute_result"
    }
   ],
   "source": [
    "glaxo_data.describe()"
   ]
  },
  {
   "cell_type": "code",
   "execution_count": 58,
   "id": "fe89da30",
   "metadata": {},
   "outputs": [
    {
     "data": {
      "text/plain": [
       "0.06353183355777392"
      ]
     },
     "execution_count": 58,
     "metadata": {},
     "output_type": "execute_result"
    }
   ],
   "source": [
    "stats.norm.cdf(x=-0.02,loc=0.000386,scale=0.013361)\n",
    "# There is 6% chance that if an investor invests on Glaxo, he will be loosing 2% or more than 2% from his investment."
   ]
  },
  {
   "cell_type": "markdown",
   "id": "bd727a1a",
   "metadata": {},
   "source": [
    "### 4.What is probability of making 2% profit in Glaxo:"
   ]
  },
  {
   "cell_type": "code",
   "execution_count": 60,
   "id": "20b63fd5",
   "metadata": {},
   "outputs": [
    {
     "data": {
      "text/plain": [
       "0.07105158286739244"
      ]
     },
     "execution_count": 60,
     "metadata": {},
     "output_type": "execute_result"
    }
   ],
   "source": [
    "1 - stats.norm.cdf(x = 0.02, loc = 0.000386, scale = 0.013361)\n",
    "# There is 7% chance that if an investor invests on BEML, he will be getting 2% or more than 2% from his investment."
   ]
  },
  {
   "cell_type": "markdown",
   "id": "64db7c11",
   "metadata": {},
   "source": [
    "# THE END "
   ]
  }
 ],
 "metadata": {
  "kernelspec": {
   "display_name": "Python 3 (ipykernel)",
   "language": "python",
   "name": "python3"
  },
  "language_info": {
   "codemirror_mode": {
    "name": "ipython",
    "version": 3
   },
   "file_extension": ".py",
   "mimetype": "text/x-python",
   "name": "python",
   "nbconvert_exporter": "python",
   "pygments_lexer": "ipython3",
   "version": "3.9.12"
  }
 },
 "nbformat": 4,
 "nbformat_minor": 5
}
